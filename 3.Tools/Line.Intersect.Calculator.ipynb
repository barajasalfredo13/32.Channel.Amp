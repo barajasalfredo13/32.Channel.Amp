{
 "cells": [
  {
   "cell_type": "code",
   "execution_count": 7,
   "id": "fdfd503b-15e4-451e-b9c4-27d13ccfe38c",
   "metadata": {},
   "outputs": [],
   "source": [
    "class Point:\n",
    "    def __init__(self, x, y):\n",
    "        self.x = x\n",
    "        self.y = y\n",
    "\n",
    "class Line:\n",
    "    def __init__(self, p1, p2):\n",
    "        self.p1 = p1\n",
    "        self.p2 = p2\n"
   ]
  },
  {
   "cell_type": "code",
   "execution_count": 8,
   "id": "bc10aa02-5f3c-4ad7-818f-11e25d4c03f6",
   "metadata": {},
   "outputs": [],
   "source": [
    "def intersect(line1, line2):\n",
    "    xdiff = (line1.p1.x - line1.p2.x, line2.p1.x - line2.p2.x)\n",
    "    ydiff = (line1.p1.y - line1.p2.y, line2.p1.y - line2.p2.y)\n",
    "\n",
    "    def det(a, b):\n",
    "        return a[0] * b[1] - a[1] * b[0]\n",
    "\n",
    "    div = det(xdiff, ydiff)\n",
    "    if div == 0:\n",
    "       raise Exception('Lines do not intersect')\n",
    "\n",
    "    d = (det((line1.p1.x, line1.p1.y), (line1.p2.x, line1.p2.y)), \n",
    "         det((line2.p1.x, line2.p1.y), (line2.p2.x, line2.p2.y)))\n",
    "    x = det(d, xdiff) / div\n",
    "    y = det(d, ydiff) / div\n",
    "    return x, y\n"
   ]
  },
  {
   "cell_type": "code",
   "execution_count": 9,
   "id": "389b12d1-a2db-4fd8-a0bb-0ce0a367bcc2",
   "metadata": {
    "tags": []
   },
   "outputs": [
    {
     "name": "stdout",
     "output_type": "stream",
     "text": [
      "Lines intersect at point: (46.56394009216593, 40.005443548387085)\n"
     ]
    }
   ],
   "source": [
    "# defining lines\n",
    "line1 = Line(Point(45, 39.7), Point(48.62, 40.407))\n",
    "line2 = Line(Point(45, 40.3), Point(99.3, 30.073))\n",
    "\n",
    "# calculating intersection\n",
    "try:\n",
    "    x, y = intersect(line1, line2)\n",
    "    print(f'Lines intersect at point: ({x}, {y})')\n",
    "except Exception as e:\n",
    "    print(str(e))\n"
   ]
  },
  {
   "cell_type": "code",
   "execution_count": null,
   "id": "236ab77b-6e1d-4c43-a0d3-124d07b26b04",
   "metadata": {},
   "outputs": [],
   "source": []
  }
 ],
 "metadata": {
  "kernelspec": {
   "display_name": "anaconda-panel-2023.05-py310",
   "language": "python",
   "name": "conda-env-anaconda-panel-2023.05-py310-py"
  },
  "language_info": {
   "codemirror_mode": {
    "name": "ipython",
    "version": 3
   },
   "file_extension": ".py",
   "mimetype": "text/x-python",
   "name": "python",
   "nbconvert_exporter": "python",
   "pygments_lexer": "ipython3",
   "version": "3.11.4"
  }
 },
 "nbformat": 4,
 "nbformat_minor": 5
}
